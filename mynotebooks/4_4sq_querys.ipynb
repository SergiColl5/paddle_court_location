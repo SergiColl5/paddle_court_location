{
 "cells": [
  {
   "cell_type": "code",
   "execution_count": 23,
   "metadata": {},
   "outputs": [],
   "source": [
    "import requests\n",
    "import json\n",
    "import pandas as pd\n",
    "from getpass import getpass\n",
    "import dotenv\n",
    "from dotenv import load_dotenv\n",
    "import os \n",
    "from pymongo import MongoClient"
   ]
  },
  {
   "cell_type": "code",
   "execution_count": 6,
   "metadata": {},
   "outputs": [],
   "source": [
    "token = getpass()"
   ]
  },
  {
   "cell_type": "code",
   "execution_count": null,
   "metadata": {},
   "outputs": [],
   "source": [
    "# I am going to request how many of the following locations I have in sydney, and where is located.\n",
    "\n",
    "# Residential areas\n",
    "# Parks for outdoor activities\n",
    "# Universities \n",
    "# Gyms for fitness enthusiasts\n",
    "# Social Clubs \n",
    "# Bars for post-game meals and socializing\n",
    "# Public transportation options\n",
    "# physiotherapy \n",
    "# Tennis store\n",
    "# Parking for cars."
   ]
  },
  {
   "cell_type": "code",
   "execution_count": 52,
   "metadata": {},
   "outputs": [],
   "source": [
    "# I create a dictionary with all the locations and its code associated in 4sq.\n",
    "dict_of_places = {'bar':13003,\n",
    "                   'physiotherapy':15026,\n",
    "                   'social_club':12097,\n",
    "                   'tennis_store':17130,\n",
    "                   'residential':12094,\n",
    "                   'park': 16032,\n",
    "                   'university': 12013,\n",
    "                   'gym':18021,\n",
    "                   'parking':19020,\n",
    "                   'public_transport':19054,\n",
    "                   'tennis_court':18047\n",
    "                    }\n",
    "\n"
   ]
  },
  {
   "cell_type": "code",
   "execution_count": 48,
   "metadata": {},
   "outputs": [],
   "source": [
    "# I create two functions, one to request to 4sq and the other one to insert the result to mongo.\n",
    "\n",
    "def request_4sq (key,dictionary):\n",
    "    ''' This functions takes the key and the dictionary\n",
    "        returns the respons of the request to 4sq based on the key we passed. '''\n",
    "\n",
    "    center_point = '-33.8149474%2C150.9999835'\n",
    "    radius = 30000\n",
    "    headers = {\"accept\": \"application/json\",\n",
    "                    \"Authorization\": token }\n",
    "    category_code = dictionary[key]\n",
    "    limit = 30\n",
    "    url = f\"https://api.foursquare.com/v3/places/search?ll={center_point}&radius={radius}&categories={category_code}&fields=name%2Cgeocodes&limit={limit}\"\n",
    "\n",
    "    response = requests.get(url, headers=headers).json()\n",
    "    return response['results']\n",
    "\n",
    "def send_to_mongo (key,response):\n",
    "    '''This function takes the key and the response from 4sq\n",
    "        insert the result in mongo and returns a message confirming.'''\n",
    "    client = MongoClient(\"localhost:27017\")\n",
    "    db = client['geospatial']\n",
    "    collection = db[key]\n",
    "    collection.insert_many(response)"
   ]
  },
  {
   "cell_type": "code",
   "execution_count": 51,
   "metadata": {},
   "outputs": [],
   "source": [
    "# I loop through the dictionary of categories and codes, and I apply the two functions I created.\n",
    "for key in dict_of_places.keys():\n",
    "    response = (request_4sq(key,dict_of_places))\n",
    "    send_to_mongo(key,response)\n"
   ]
  }
 ],
 "metadata": {
  "kernelspec": {
   "display_name": "ironhack",
   "language": "python",
   "name": "python3"
  },
  "language_info": {
   "codemirror_mode": {
    "name": "ipython",
    "version": 3
   },
   "file_extension": ".py",
   "mimetype": "text/x-python",
   "name": "python",
   "nbconvert_exporter": "python",
   "pygments_lexer": "ipython3",
   "version": "3.10.9"
  },
  "orig_nbformat": 4,
  "vscode": {
   "interpreter": {
    "hash": "01693d08c76e0fb3e71da81b986e1b86f0c52bf5753630df6eccc1049caafb5a"
   }
  }
 },
 "nbformat": 4,
 "nbformat_minor": 2
}
