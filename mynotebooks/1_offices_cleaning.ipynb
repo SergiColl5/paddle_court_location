{
 "cells": [
  {
   "cell_type": "code",
   "execution_count": 12,
   "metadata": {},
   "outputs": [],
   "source": [
    "import pandas as pd\n",
    "import json\n",
    "import os\n",
    "import dotenv\n",
    "from pymongo import MongoClient\n",
    "import pymongo\n",
    "\n"
   ]
  },
  {
   "cell_type": "code",
   "execution_count": 3,
   "metadata": {},
   "outputs": [],
   "source": [
    "# I create the connection with the database called 'companies'.\n",
    "client = MongoClient(\"localhost:27017\")\n",
    "db = client['geospatial']\n",
    "companies = db.get_collection('companies')\n"
   ]
  },
  {
   "cell_type": "code",
   "execution_count": 4,
   "metadata": {},
   "outputs": [],
   "source": [
    "# I set the projection and the filters to query the mongoDB\n",
    "projection = {}\n",
    "filter_ = {'offices.country_code':'AUS'}\n"
   ]
  },
  {
   "cell_type": "code",
   "execution_count": 5,
   "metadata": {},
   "outputs": [
    {
     "name": "stdout",
     "output_type": "stream",
     "text": [
      "I got 257 companies in AUS\n"
     ]
    }
   ],
   "source": [
    "# I perform the request\n",
    "result = list(companies.find(filter_,projection))\n",
    "print(f'I got {len(result)} companies in AUS')\n"
   ]
  },
  {
   "cell_type": "code",
   "execution_count": 6,
   "metadata": {},
   "outputs": [],
   "source": [
    "# I create a dictionary only with the information I really need from each company, in this case, the offices.\n",
    "dict_of_companies = {}\n",
    "for i in result:\n",
    "    dict_of_companies[i['name']]= i['offices']\n"
   ]
  },
  {
   "cell_type": "code",
   "execution_count": 7,
   "metadata": {},
   "outputs": [],
   "source": [
    "# I create a list of dictionaries, each of them contains info about the company and all the offices in aus for each company. \n",
    "\n",
    "list_offices_aus = []\n",
    "# I loop through the companies' names\n",
    "for company in dict_of_companies.keys():\n",
    "\n",
    "    # I create a list containing the offices information, so each element is an office.\n",
    "    list_of_offices = dict_of_companies[company]\n",
    "    for office in list_of_offices:\n",
    "\n",
    "        # for each office, I get the information that I need, based on a condition, and I create a dictionary formated correctly.\n",
    "        if office['country_code'] == 'AUS':\n",
    "            list_offices_aus.append({'company':company,\n",
    "                                'name_office':office['description'],\n",
    "                                'city': office['city'],\n",
    "                                'address': office['address1'],\n",
    "                                'location':{'type':'Point',\n",
    "                                            'coordinates':[office['latitude'],office['longitude']]},\n",
    "                                'latitude':office['latitude'],\n",
    "                                'longitude':office['longitude']\n",
    "                                            })\n",
    "                                "
   ]
  },
  {
   "cell_type": "code",
   "execution_count": 8,
   "metadata": {},
   "outputs": [
    {
     "data": {
      "text/plain": [
       "<pymongo.results.InsertManyResult at 0x143ef35b0>"
      ]
     },
     "execution_count": 8,
     "metadata": {},
     "output_type": "execute_result"
    }
   ],
   "source": [
    "# I upload the dictionary to mongoDB\n",
    "aus_offices = db['aus_offices']\n",
    "aus_offices.insert_many(list_offices_aus)"
   ]
  },
  {
   "cell_type": "code",
   "execution_count": null,
   "metadata": {},
   "outputs": [],
   "source": [
    "\n"
   ]
  },
  {
   "cell_type": "code",
   "execution_count": null,
   "metadata": {},
   "outputs": [],
   "source": []
  }
 ],
 "metadata": {
  "kernelspec": {
   "display_name": "ironhack",
   "language": "python",
   "name": "python3"
  },
  "language_info": {
   "codemirror_mode": {
    "name": "ipython",
    "version": 3
   },
   "file_extension": ".py",
   "mimetype": "text/x-python",
   "name": "python",
   "nbconvert_exporter": "python",
   "pygments_lexer": "ipython3",
   "version": "3.10.9"
  },
  "orig_nbformat": 4,
  "vscode": {
   "interpreter": {
    "hash": "01693d08c76e0fb3e71da81b986e1b86f0c52bf5753630df6eccc1049caafb5a"
   }
  }
 },
 "nbformat": 4,
 "nbformat_minor": 2
}
