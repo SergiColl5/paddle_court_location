{
 "cells": [
  {
   "cell_type": "code",
   "execution_count": 14,
   "metadata": {},
   "outputs": [],
   "source": [
    "import folium\n",
    "from folium import Choropleth, Circle, Marker, Icon, Map\n",
    "from folium.plugins import HeatMap, MarkerCluster\n",
    "import pandas as pd\n",
    "from pymongo import MongoClient\n",
    "import matplotlib as plt\n",
    "\n"
   ]
  },
  {
   "cell_type": "code",
   "execution_count": 2,
   "metadata": {},
   "outputs": [],
   "source": [
    "# I create the connection with the database called 'companies'.\n",
    "client = MongoClient(\"localhost:27017\")\n",
    "db = client['geospatial']\n",
    "companies = db.get_collection('aus_offices')"
   ]
  },
  {
   "cell_type": "code",
   "execution_count": 3,
   "metadata": {},
   "outputs": [
    {
     "data": {
      "text/html": [
       "<div>\n",
       "<style scoped>\n",
       "    .dataframe tbody tr th:only-of-type {\n",
       "        vertical-align: middle;\n",
       "    }\n",
       "\n",
       "    .dataframe tbody tr th {\n",
       "        vertical-align: top;\n",
       "    }\n",
       "\n",
       "    .dataframe thead th {\n",
       "        text-align: right;\n",
       "    }\n",
       "</style>\n",
       "<table border=\"1\" class=\"dataframe\">\n",
       "  <thead>\n",
       "    <tr style=\"text-align: right;\">\n",
       "      <th></th>\n",
       "      <th>latitude</th>\n",
       "      <th>longitude</th>\n",
       "    </tr>\n",
       "  </thead>\n",
       "  <tbody>\n",
       "    <tr>\n",
       "      <th>0</th>\n",
       "      <td>-37.879234</td>\n",
       "      <td>145.073608</td>\n",
       "    </tr>\n",
       "    <tr>\n",
       "      <th>1</th>\n",
       "      <td>-34.822723</td>\n",
       "      <td>138.612396</td>\n",
       "    </tr>\n",
       "    <tr>\n",
       "      <th>12</th>\n",
       "      <td>-34.819499</td>\n",
       "      <td>138.612894</td>\n",
       "    </tr>\n",
       "    <tr>\n",
       "      <th>15</th>\n",
       "      <td>-27.460736</td>\n",
       "      <td>153.004254</td>\n",
       "    </tr>\n",
       "    <tr>\n",
       "      <th>18</th>\n",
       "      <td>-37.802659</td>\n",
       "      <td>144.986855</td>\n",
       "    </tr>\n",
       "    <tr>\n",
       "      <th>...</th>\n",
       "      <td>...</td>\n",
       "      <td>...</td>\n",
       "    </tr>\n",
       "    <tr>\n",
       "      <th>256</th>\n",
       "      <td>-37.709071</td>\n",
       "      <td>144.863665</td>\n",
       "    </tr>\n",
       "    <tr>\n",
       "      <th>257</th>\n",
       "      <td>-37.711099</td>\n",
       "      <td>144.864650</td>\n",
       "    </tr>\n",
       "    <tr>\n",
       "      <th>258</th>\n",
       "      <td>-37.034419</td>\n",
       "      <td>143.743808</td>\n",
       "    </tr>\n",
       "    <tr>\n",
       "      <th>259</th>\n",
       "      <td>-33.868898</td>\n",
       "      <td>151.202966</td>\n",
       "    </tr>\n",
       "    <tr>\n",
       "      <th>260</th>\n",
       "      <td>-33.815217</td>\n",
       "      <td>151.002324</td>\n",
       "    </tr>\n",
       "  </tbody>\n",
       "</table>\n",
       "<p>140 rows × 2 columns</p>\n",
       "</div>"
      ],
      "text/plain": [
       "      latitude   longitude\n",
       "0   -37.879234  145.073608\n",
       "1   -34.822723  138.612396\n",
       "12  -34.819499  138.612894\n",
       "15  -27.460736  153.004254\n",
       "18  -37.802659  144.986855\n",
       "..         ...         ...\n",
       "256 -37.709071  144.863665\n",
       "257 -37.711099  144.864650\n",
       "258 -37.034419  143.743808\n",
       "259 -33.868898  151.202966\n",
       "260 -33.815217  151.002324\n",
       "\n",
       "[140 rows x 2 columns]"
      ]
     },
     "execution_count": 3,
     "metadata": {},
     "output_type": "execute_result"
    }
   ],
   "source": [
    "# I download the location of all the offices in australia from the database in mongo. And I clean those whick doesn't have coordinates.\n",
    "offices = pd.DataFrame(list(companies.find({},{'_id':0})))\n",
    "offices[['latitude','longitude']]\n",
    "offices_no_nan = offices.dropna()\n",
    "offices_no_nan[['latitude','longitude']]"
   ]
  },
  {
   "cell_type": "code",
   "execution_count": 4,
   "metadata": {},
   "outputs": [
    {
     "data": {
      "text/html": [
       "<div style=\"width:100%;\"><div style=\"position:relative;width:100%;height:0;padding-bottom:60%;\"><span style=\"color:#565656\">Make this Notebook Trusted to load map: File -> Trust Notebook</span><iframe srcdoc=\"&lt;!DOCTYPE html&gt;\n",
       "&lt;html&gt;\n",
       "&lt;head&gt;\n",
       "    \n",
       "    &lt;meta http-equiv=&quot;content-type&quot; content=&quot;text/html; charset=UTF-8&quot; /&gt;\n",
       "    \n",
       "        &lt;script&gt;\n",
       "            L_NO_TOUCH = false;\n",
       "            L_DISABLE_3D = false;\n",
       "        &lt;/script&gt;\n",
       "    \n",
       "    &lt;style&gt;html, body {width: 100%;height: 100%;margin: 0;padding: 0;}&lt;/style&gt;\n",
       "    &lt;style&gt;#map {position:absolute;top:0;bottom:0;right:0;left:0;}&lt;/style&gt;\n",
       "    &lt;script src=&quot;https://cdn.jsdelivr.net/npm/leaflet@1.9.3/dist/leaflet.js&quot;&gt;&lt;/script&gt;\n",
       "    &lt;script src=&quot;https://code.jquery.com/jquery-1.12.4.min.js&quot;&gt;&lt;/script&gt;\n",
       "    &lt;script src=&quot;https://cdn.jsdelivr.net/npm/bootstrap@5.2.2/dist/js/bootstrap.bundle.min.js&quot;&gt;&lt;/script&gt;\n",
       "    &lt;script src=&quot;https://cdnjs.cloudflare.com/ajax/libs/Leaflet.awesome-markers/2.0.2/leaflet.awesome-markers.js&quot;&gt;&lt;/script&gt;\n",
       "    &lt;link rel=&quot;stylesheet&quot; href=&quot;https://cdn.jsdelivr.net/npm/leaflet@1.9.3/dist/leaflet.css&quot;/&gt;\n",
       "    &lt;link rel=&quot;stylesheet&quot; href=&quot;https://cdn.jsdelivr.net/npm/bootstrap@5.2.2/dist/css/bootstrap.min.css&quot;/&gt;\n",
       "    &lt;link rel=&quot;stylesheet&quot; href=&quot;https://netdna.bootstrapcdn.com/bootstrap/3.0.0/css/bootstrap.min.css&quot;/&gt;\n",
       "    &lt;link rel=&quot;stylesheet&quot; href=&quot;https://cdn.jsdelivr.net/npm/@fortawesome/fontawesome-free@6.2.0/css/all.min.css&quot;/&gt;\n",
       "    &lt;link rel=&quot;stylesheet&quot; href=&quot;https://cdnjs.cloudflare.com/ajax/libs/Leaflet.awesome-markers/2.0.2/leaflet.awesome-markers.css&quot;/&gt;\n",
       "    &lt;link rel=&quot;stylesheet&quot; href=&quot;https://cdn.jsdelivr.net/gh/python-visualization/folium/folium/templates/leaflet.awesome.rotate.min.css&quot;/&gt;\n",
       "    \n",
       "            &lt;meta name=&quot;viewport&quot; content=&quot;width=device-width,\n",
       "                initial-scale=1.0, maximum-scale=1.0, user-scalable=no&quot; /&gt;\n",
       "            &lt;style&gt;\n",
       "                #map_fcc35e921d24044bcd90e333a7ddae98 {\n",
       "                    position: relative;\n",
       "                    width: 100.0%;\n",
       "                    height: 100.0%;\n",
       "                    left: 0.0%;\n",
       "                    top: 0.0%;\n",
       "                }\n",
       "                .leaflet-container { font-size: 1rem; }\n",
       "            &lt;/style&gt;\n",
       "        \n",
       "    &lt;script src=&quot;https://cdn.jsdelivr.net/gh/python-visualization/folium@main/folium/templates/leaflet_heat.min.js&quot;&gt;&lt;/script&gt;\n",
       "&lt;/head&gt;\n",
       "&lt;body&gt;\n",
       "    \n",
       "    \n",
       "            &lt;div class=&quot;folium-map&quot; id=&quot;map_fcc35e921d24044bcd90e333a7ddae98&quot; &gt;&lt;/div&gt;\n",
       "        \n",
       "&lt;/body&gt;\n",
       "&lt;script&gt;\n",
       "    \n",
       "    \n",
       "            var map_fcc35e921d24044bcd90e333a7ddae98 = L.map(\n",
       "                &quot;map_fcc35e921d24044bcd90e333a7ddae98&quot;,\n",
       "                {\n",
       "                    center: [-32.74, 145.0],\n",
       "                    crs: L.CRS.EPSG3857,\n",
       "                    zoom: 5,\n",
       "                    zoomControl: true,\n",
       "                    preferCanvas: false,\n",
       "                }\n",
       "            );\n",
       "\n",
       "            \n",
       "\n",
       "        \n",
       "    \n",
       "            var tile_layer_e9a33d132dfc6796d8cd7c4276b33667 = L.tileLayer(\n",
       "                &quot;https://{s}.tile.openstreetmap.org/{z}/{x}/{y}.png&quot;,\n",
       "                {&quot;attribution&quot;: &quot;Data by \\u0026copy; \\u003ca target=\\&quot;_blank\\&quot; href=\\&quot;http://openstreetmap.org\\&quot;\\u003eOpenStreetMap\\u003c/a\\u003e, under \\u003ca target=\\&quot;_blank\\&quot; href=\\&quot;http://www.openstreetmap.org/copyright\\&quot;\\u003eODbL\\u003c/a\\u003e.&quot;, &quot;detectRetina&quot;: false, &quot;maxNativeZoom&quot;: 18, &quot;maxZoom&quot;: 18, &quot;minZoom&quot;: 0, &quot;noWrap&quot;: false, &quot;opacity&quot;: 1, &quot;subdomains&quot;: &quot;abc&quot;, &quot;tms&quot;: false}\n",
       "            ).addTo(map_fcc35e921d24044bcd90e333a7ddae98);\n",
       "        \n",
       "    \n",
       "            var heat_map_eb55c006d62e2fbafeab0c93c17104f8 = L.heatLayer(\n",
       "                [[-37.879234, 145.073608], [-34.822723, 138.612396], [-34.819499, 138.612894], [-27.460736, 153.004254], [-37.8026587, 144.9868546], [-33.804474, 151.104553], [-31.952282, 115.855002], [-37.813603, 144.96616], [-37.803294, 144.99974], [-33.840821, 151.20646], [-33.329799, 151.505125], [-38.372965, 144.816292], [-37.813339, 144.970823], [-41.565586, 147.196096], [-37.804233, 144.998935], [-33.860404, 151.208584], [-33.641732, 151.313553], [-33.803891, 151.104925], [-33.797144, 151.28804], [-33.329799, 151.505125], [-27.467878, 153.047052], [-33.871062, 151.207016], [-37.813339, 144.970823], [-37.812332, 144.968956], [-32.039853, 115.825529], [-37.802626, 144.950938], [-37.811805, 145.011393], [-33.830606, 151.13278], [-37.812649, 144.943656], [-33.817773, 151.091193], [-33.869027, 151.210245], [-33.694387, 151.117434], [-33.872864, 151.207543], [-33.753529, 151.237264], [-37.814541, 144.9705], [-33.867139, 151.207114], [-33.8627, 151.209705], [-33.876658, 151.213362], [-33.866, 151.212159], [-33.914273, 151.25679], [-33.629723, 151.323938], [-33.878684, 151.21231], [-33.888821, 151.213328], [-38.141777, 145.123041], [-34.985993, 138.570233], [-37.793125, 144.971266], [-33.867139, 151.207114], [-33.857834, 151.175409], [-33.83639, 151.21085], [-38.37331, 144.817624], [-33.876239, 151.215201], [-37.812332, 144.968956], [-27.458989, 153.043228], [-33.884685, 151.216427], [-33.86322, 151.179693], [-27.621592, 152.778976], [-37.813339, 144.970823], [-37.813339, 144.970823], [-31.9554, 115.85859], [-34.037717, 151.10537], [-37.814768, 144.962282], [-33.88636, 151.209562], [-33.867139, 151.207114], [-33.868778, 151.204586], [-37.807444, 144.985261], [-33.8719926, 151.1936039], [-33.867139, 151.207114], [-33.867139, 151.207114], [-37.835809, 144.973695], [-33.877858, 151.206991], [-33.8835577, 151.2085974], [-33.837116, 151.209222], [-37.639333, 144.9504861], [-31.97302, 115.813457], [-37.8289319, 144.9530953], [-27.455465, 153.035629], [-33.7931266, 151.1904068], [-27.980414, 153.411179], [-37.818287, 145.002929], [-37.8161164, 144.9715423], [-33.874864, 151.219149], [-33.714043, 150.311589], [-33.924567, 151.038064], [-33.863621, 151.213376], [-33.916323, 151.210048], [-37.858685, 144.983243], [-33.862686, 151.20971], [-32.937528, 151.759625], [-35.321403, 149.133191], [-27.485397, 152.993969], [-37.819691, 145.205688], [-33.871118, 150.8705], [-27.411292, 153.011337], [-28.0856271, 153.4002354], [-37.841345, 144.977417], [-33.881451, 151.19552], [-33.890832, 151.24502], [-37.816694, 144.964565], [-28.0718703, 153.3746053], [-33.867139, 151.207114], [-33.777049, 151.125165], [-37.839941, 144.976425], [-33.8687, 151.225361], [-33.870661, 151.205039], [-42.7072201, 146.8942107], [-27.471324, 153.004781], [-33.8687, 151.225361], [-33.867139, 151.207114], [-33.85566, 151.177331], [-28.085945, 153.390945], [-31.97822, 115.89084], [-33.8719926, 151.1936039], [-27.471875, 153.110084], [-31.968149, 115.849689], [-37.8361, 144.9563945], [-37.742893, 145.065044], [-34.051916, 150.69582], [-33.798642, 151.178984], [-27.917488, 153.2075297], [-18.649757, 146.158867], [-27.454388, 153.030228], [-33.806371, 150.923345], [-37.843183, 144.938697], [-33.3970827, 115.7772297], [-37.857674, 145.037319], [-34.103392, 150.804956], [-33.8810954, 151.1968839], [-33.947414, 150.967905], [-37.307999, 144.134544], [-27.4574861, 153.033686], [-28.048422, 153.4375], [-33.867139, 151.207114], [-33.797144, 151.28804], [-37.8133386, 144.9708234], [-33.867139, 151.207114], [-37.709071, 144.863665], [-37.711099, 144.86465], [-37.034419, 143.743808], [-33.868898, 151.202966], [-33.815217, 151.002324]],\n",
       "                {&quot;blur&quot;: 15, &quot;maxZoom&quot;: 18, &quot;minOpacity&quot;: 0.5, &quot;radius&quot;: 25}\n",
       "            ).addTo(map_fcc35e921d24044bcd90e333a7ddae98);\n",
       "        \n",
       "&lt;/script&gt;\n",
       "&lt;/html&gt;\" style=\"position:absolute;width:100%;height:100%;left:0;top:0;border:none !important;\" allowfullscreen webkitallowfullscreen mozallowfullscreen></iframe></div></div>"
      ],
      "text/plain": [
       "<folium.folium.Map at 0x123549cc0>"
      ]
     },
     "execution_count": 4,
     "metadata": {},
     "output_type": "execute_result"
    }
   ],
   "source": [
    "# I create a heat map to know how the offices are distributed.\n",
    "\n",
    "australia_map = Map (location = [-32.74, 145], zoom_start = 5)\n",
    "HeatMap(data = offices_no_nan[[\"latitude\",\"longitude\"]]).add_to(australia_map)\n",
    "australia_map\n",
    "# We can see that there are only a few cities hosting all the offices.\n",
    "# Perth, Adelaide, Victoria, Melbourne, Canberra, Sidney, Newcastle, Gold Coast, and Brisbane. But the highest concentration is in New South Wales."
   ]
  },
  {
   "cell_type": "code",
   "execution_count": 5,
   "metadata": {},
   "outputs": [],
   "source": [
    "australia_map.save('../maps/australia_offices.html')"
   ]
  },
  {
   "cell_type": "code",
   "execution_count": 7,
   "metadata": {},
   "outputs": [],
   "source": [
    "# Let's check the population\n",
    "\n",
    "population_australia = pd.read_excel('../data/Australian Bureau of Statistics.xlsx')"
   ]
  },
  {
   "cell_type": "code",
   "execution_count": 9,
   "metadata": {},
   "outputs": [],
   "source": [
    "population_australia.dropna(inplace=True)"
   ]
  },
  {
   "cell_type": "code",
   "execution_count": 16,
   "metadata": {},
   "outputs": [],
   "source": [
    "\n",
    "population_australia = population_australia.drop(population_australia.index[-1])"
   ]
  },
  {
   "cell_type": "code",
   "execution_count": 18,
   "metadata": {},
   "outputs": [],
   "source": [
    "population_australia.columns=['state','population','increment','increment%']"
   ]
  },
  {
   "cell_type": "code",
   "execution_count": 19,
   "metadata": {},
   "outputs": [
    {
     "data": {
      "text/html": [
       "<div>\n",
       "<style scoped>\n",
       "    .dataframe tbody tr th:only-of-type {\n",
       "        vertical-align: middle;\n",
       "    }\n",
       "\n",
       "    .dataframe tbody tr th {\n",
       "        vertical-align: top;\n",
       "    }\n",
       "\n",
       "    .dataframe thead th {\n",
       "        text-align: right;\n",
       "    }\n",
       "</style>\n",
       "<table border=\"1\" class=\"dataframe\">\n",
       "  <thead>\n",
       "    <tr style=\"text-align: right;\">\n",
       "      <th></th>\n",
       "      <th>state</th>\n",
       "      <th>population</th>\n",
       "      <th>increment</th>\n",
       "      <th>increment%</th>\n",
       "    </tr>\n",
       "  </thead>\n",
       "  <tbody>\n",
       "    <tr>\n",
       "      <th>0</th>\n",
       "      <td>New South Wales</td>\n",
       "      <td>8153.6</td>\n",
       "      <td>59.8</td>\n",
       "      <td>0.7</td>\n",
       "    </tr>\n",
       "    <tr>\n",
       "      <th>1</th>\n",
       "      <td>Victoria</td>\n",
       "      <td>6613.7</td>\n",
       "      <td>65.7</td>\n",
       "      <td>1.0</td>\n",
       "    </tr>\n",
       "    <tr>\n",
       "      <th>2</th>\n",
       "      <td>Queensland</td>\n",
       "      <td>5322.1</td>\n",
       "      <td>104.4</td>\n",
       "      <td>2.0</td>\n",
       "    </tr>\n",
       "    <tr>\n",
       "      <th>3</th>\n",
       "      <td>South Australia</td>\n",
       "      <td>1820.5</td>\n",
       "      <td>17.3</td>\n",
       "      <td>1.0</td>\n",
       "    </tr>\n",
       "    <tr>\n",
       "      <th>4</th>\n",
       "      <td>Western Australia</td>\n",
       "      <td>2785.3</td>\n",
       "      <td>35.4</td>\n",
       "      <td>1.3</td>\n",
       "    </tr>\n",
       "    <tr>\n",
       "      <th>5</th>\n",
       "      <td>Tasmania</td>\n",
       "      <td>571.5</td>\n",
       "      <td>3.6</td>\n",
       "      <td>0.6</td>\n",
       "    </tr>\n",
       "    <tr>\n",
       "      <th>6</th>\n",
       "      <td>Northern Territory</td>\n",
       "      <td>250.6</td>\n",
       "      <td>1.4</td>\n",
       "      <td>0.6</td>\n",
       "    </tr>\n",
       "    <tr>\n",
       "      <th>7</th>\n",
       "      <td>Australian Capital Territory</td>\n",
       "      <td>456.7</td>\n",
       "      <td>3.1</td>\n",
       "      <td>0.7</td>\n",
       "    </tr>\n",
       "  </tbody>\n",
       "</table>\n",
       "</div>"
      ],
      "text/plain": [
       "                          state  population  increment  increment%\n",
       "0               New South Wales      8153.6       59.8         0.7\n",
       "1                      Victoria      6613.7       65.7         1.0\n",
       "2                    Queensland      5322.1      104.4         2.0\n",
       "3               South Australia      1820.5       17.3         1.0\n",
       "4             Western Australia      2785.3       35.4         1.3\n",
       "5                      Tasmania       571.5        3.6         0.6\n",
       "6            Northern Territory       250.6        1.4         0.6\n",
       "7  Australian Capital Territory       456.7        3.1         0.7"
      ]
     },
     "execution_count": 19,
     "metadata": {},
     "output_type": "execute_result"
    }
   ],
   "source": [
    "population_australia"
   ]
  },
  {
   "cell_type": "code",
   "execution_count": 20,
   "metadata": {},
   "outputs": [
    {
     "data": {
      "image/png": "[encoded data removed]",
      "text/plain": [
       "<Figure size 1000x600 with 1 Axes>"
      ]
     },
     "metadata": {},
     "output_type": "display_data"
    }
   ],
   "source": [
    "import pandas as pd\n",
    "import matplotlib.pyplot as plt\n",
    "\n",
    "\n",
    "# plot the population of each state\n",
    "population_australia.plot(x='state', y='population', kind='bar', color='blue', figsize=(10, 6))\n",
    "\n",
    "# add a title to the plot\n",
    "plt.title(\"Population of Australia States\")\n",
    "\n",
    "# add x-axis and y-axis labels\n",
    "plt.xlabel(\"State\")\n",
    "plt.ylabel(\"Population (in millions)\")\n",
    "\n",
    "# show the plot\n",
    "plt.show()"
   ]
  },
  {
   "cell_type": "code",
   "execution_count": null,
   "metadata": {},
   "outputs": [],
   "source": [
    "# We can see that New South Wales has the highest population."
   ]
  }
 ],
 "metadata": {
  "kernelspec": {
   "display_name": "ironhack",
   "language": "python",
   "name": "python3"
  },
  "language_info": {
   "codemirror_mode": {
    "name": "ipython",
    "version": 3
   },
   "file_extension": ".py",
   "mimetype": "text/x-python",
   "name": "python",
   "nbconvert_exporter": "python",
   "pygments_lexer": "ipython3",
   "version": "3.10.9"
  },
  "orig_nbformat": 4,
  "vscode": {
   "interpreter": {
    "hash": "01693d08c76e0fb3e71da81b986e1b86f0c52bf5753630df6eccc1049caafb5a"
   }
  }
 },
 "nbformat": 4,
 "nbformat_minor": 2
}
