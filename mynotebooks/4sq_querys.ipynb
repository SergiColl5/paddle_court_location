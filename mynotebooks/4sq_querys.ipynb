{
 "cells": [
  {
   "cell_type": "code",
   "execution_count": 23,
   "metadata": {},
   "outputs": [],
   "source": [
    "import requests\n",
    "import json\n",
    "import pandas as pd\n",
    "from getpass import getpass\n",
    "import dotenv\n",
    "from dotenv import load_dotenv\n",
    "import os \n",
    "from pymongo import MongoClient"
   ]
  },
  {
   "cell_type": "code",
   "execution_count": 6,
   "metadata": {},
   "outputs": [],
   "source": [
    "token = getpass()"
   ]
  },
  {
   "cell_type": "code",
   "execution_count": 7,
   "metadata": {},
   "outputs": [
    {
     "data": {
      "text/plain": [
       "'fsq3FKRSnl7QmegrfIxRzRsClESef0ln3jDAT5Mq9KRpi1c='"
      ]
     },
     "execution_count": 7,
     "metadata": {},
     "output_type": "execute_result"
    }
   ],
   "source": [
    "token"
   ]
  },
  {
   "cell_type": "code",
   "execution_count": null,
   "metadata": {},
   "outputs": [],
   "source": [
    "# I am going to request how many of the following locations I have in sydney, and where is located.\n",
    "\n",
    "# Residential or commercial areas to attract players\n",
    "# Parks or recreational areas for outdoor activities\n",
    "# Schools or universities for student athletes and recreational players\n",
    "# Health clubs or gyms for fitness enthusiasts\n",
    "# Social Clubs \n",
    "# Bars or cafes for post-game meals and socializing\n",
    "# Convenient public transportation options\n",
    "# physiotherapy \n",
    "# Tennis store\n",
    "# Other sports facilities or fields to attract sports enthusiasts and teams."
   ]
  },
  {
   "cell_type": "code",
   "execution_count": 45,
   "metadata": {},
   "outputs": [],
   "source": [
    "# I create a dictionary with all the locations and its code associated in 4sq.\n",
    "dict_of_places2 = {'bar':13003,\n",
    "                   'physiotherapy':15026,\n",
    "                   'social_club':12097,\n",
    "                   'tennis_store':17130,\n",
    "                   'residential':12094,\n",
    "                   'park': 16032,\n",
    "                   'university': 12013,\n",
    "                   'gym':18021,\n",
    "                   'parking':19020,\n",
    "                   'public_transport':19054,\n",
    "                   'tennis_court':18047\n",
    "                    }\n",
    "dict_of_places = {'bar':13003}"
   ]
  },
  {
   "cell_type": "code",
   "execution_count": 46,
   "metadata": {},
   "outputs": [],
   "source": [
    "# I create two functions, one to request to 4sq and the other one to insert the result to mongo.\n",
    "\n",
    "def request_4sq (key,dictionary):\n",
    "    ''' This functions takes the key and the dictionary\n",
    "        returns the respons of the request to 4sq based on the key we passed. '''\n",
    "\n",
    "    center_point = '-33.8149474%2C150.9999835'\n",
    "    radius = 30000\n",
    "    headers = {\"accept\": \"application/json\",\n",
    "                    \"Authorization\": token }\n",
    "    category_code = dictionary[key]\n",
    "    limit = 30\n",
    "    url = f\"https://api.foursquare.com/v3/places/search?ll={center_point}&radius={radius}&categories={category_code}&fields=name%2Cgeocodes&limit={limit}\"\n",
    "\n",
    "    response = requests.get(url, headers=headers).json()\n",
    "    return response['results']\n",
    "\n",
    "def send_to_mongo (key,response):\n",
    "    '''This function takes the key and the response from 4sq\n",
    "        insert the result in mongo and returns a message confirming.'''\n",
    "    client = MongoClient(\"localhost:27017\")\n",
    "    db = client['geospatial']\n",
    "    collection = db[key]\n",
    "    collection.insert_many(response)"
   ]
  },
  {
   "cell_type": "code",
   "execution_count": 47,
   "metadata": {},
   "outputs": [
    {
     "name": "stdout",
     "output_type": "stream",
     "text": [
      "An error occurred: 'NoneType' object is not iterable\n"
     ]
    }
   ],
   "source": [
    "for key in dict_of_places.keys():\n",
    "    response = (request_4sq(key,dict_of_places))\n",
    "    send_to_mongo(key,response)\n",
    "    \n",
    "\n",
    "\n"
   ]
  },
  {
   "cell_type": "code",
   "execution_count": null,
   "metadata": {},
   "outputs": [],
   "source": [
    "# I create two functions, one to request to 4sq and the other one to insert the result to mongo.\n",
    "\n",
    "def request_4sq (key,dictionary):\n",
    "    ''' This functions takes the key and the dictionary\n",
    "        returns the respons of the request to 4sq based on the key we passed. '''\n",
    "\n",
    "    center_point = '-33.8149474%2C150.9999835'\n",
    "    radius = 30000\n",
    "    headers = {\"accept\": \"application/json\",\n",
    "                    \"Authorization\": token }\n",
    "    category_code = dictionary[key]\n",
    "    limit = 30\n",
    "    url = f\"https://api.foursquare.com/v3/places/search?ll={center_point}&radius={radius}&categories={category_code}&fields=name%2Cgeocodes&limit={limit}\"\n",
    "\n",
    "    response = requests.get(url, headers=headers)\n",
    "    return response\n",
    "\n",
    "def send_to_mongo (key,response):\n",
    "    '''This function takes the key and the response from 4sq\n",
    "        insert the result in mongo and returns a message confirming.'''\n",
    "    try:    \n",
    "        if response.status_code == 200:\n",
    "            # go ahead with the rest of your code\n",
    "            response = list(response.json()['results'])\n",
    "            client = MongoClient(\"localhost:27017\")\n",
    "            db = client['geospatial']\n",
    "            collection = db[key]\n",
    "            successfully = 0\n",
    "            duplicated = 0\n",
    "            # Check if the element exists and insert it.\n",
    "            for element in response:\n",
    "                if len(list(collection.find_one(element['name']))) > 0:\n",
    "                    collection.insert_one(element)\n",
    "                    successfully += 1\n",
    "                    \n",
    "                else:\n",
    "                    duplicated +=1 \n",
    "            return print(f'You have inserted {successfully} documents, and you had {duplicated} already in the db.')\n",
    "            # do something with the data\n",
    "        else:\n",
    "            print(\"Error response from API:\", response.text)\n",
    "            raise Exception(\"Received non-200 response\")\n",
    "    except requests.exceptions.RequestException as e:\n",
    "        # handle exceptions raised by the requests library\n",
    "        print(\"Request failed:\", e)\n",
    "    except Exception as e:\n",
    "        # handle any other exceptions\n",
    "        print(\"An error occurred:\", e)"
   ]
  }
 ],
 "metadata": {
  "kernelspec": {
   "display_name": "ironhack",
   "language": "python",
   "name": "python3"
  },
  "language_info": {
   "codemirror_mode": {
    "name": "ipython",
    "version": 3
   },
   "file_extension": ".py",
   "mimetype": "text/x-python",
   "name": "python",
   "nbconvert_exporter": "python",
   "pygments_lexer": "ipython3",
   "version": "3.10.9"
  },
  "orig_nbformat": 4,
  "vscode": {
   "interpreter": {
    "hash": "01693d08c76e0fb3e71da81b986e1b86f0c52bf5753630df6eccc1049caafb5a"
   }
  }
 },
 "nbformat": 4,
 "nbformat_minor": 2
}
